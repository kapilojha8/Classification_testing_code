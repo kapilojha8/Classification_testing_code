{
 "cells": [
  {
   "cell_type": "code",
   "execution_count": 1,
   "id": "e4dbbea0-f111-4141-8114-5e793e2432fb",
   "metadata": {},
   "outputs": [],
   "source": [
    "import pandas as pd\n",
    "import numpy as np"
   ]
  },
  {
   "cell_type": "code",
   "execution_count": 4,
   "id": "c7825b6c-f924-4789-b471-03436cfc73a6",
   "metadata": {},
   "outputs": [],
   "source": [
    "df = pd.read_csv(\"./Files/Unseen_data_20.csv\")"
   ]
  },
  {
   "cell_type": "markdown",
   "id": "b846eacc-54da-48da-92b3-59f1915d0bf9",
   "metadata": {},
   "source": [
    "# StatesCheck"
   ]
  },
  {
   "cell_type": "code",
   "execution_count": null,
   "id": "5e5a67c5-3abf-4f13-8669-5786687f20fa",
   "metadata": {},
   "outputs": [],
   "source": [
    "158. opp.Decline_Notification__c = 'Opportunity from area, not allowed loan' ;\n",
    "462. opp.Decline_Notification__c ='Decline: Purpose Of Loan-Repay Existing Debt';\n",
    "477. opp.Decline_Notification__c = 'Decline: Blacklisted Account';\n",
    "505. opp.Decline_Notification__c ='Decline: Purpose Of Loan-Repay Existing Debt';\n",
    "519. opp.Decline_Notification__c ='Decline: Age Less Than 18';\n",
    "533. opp.Decline_Notification__c ='Decline : Age Greater Than 75';\n",
    "547. opp.Decline_Notification__c ='Decline : DP-382 , Insolvency Indicator = 1';\n",
    "560. opp.Decline_Notification__c ='Decline : DP-383-Hardship -Budget Management Services Exist';\n",
    "576. opp.Decline_Notification__c ='Decline : Money In Money Out' ;\n",
    "590. opp.Decline_Notification__c ='Decline :Number Of Dishonours > 25' ;\n",
    "608. opp.Decline_Notification__c ='Decline : Responsible Lending' ;\n",
    "624. opp.Decline_Notification__c ='Decline : Responsible Lending' ;\n",
    "636. opp.Decline_Notification__c = 'Decline : Summary Income CV Not Present or Negative' ;\n",
    "645. opp.Decline_Notification__c = 'Decline : Either Report period < 90 Or Transaction Period < 75.' ;\n",
    "657. opp.Decline_Notification__c = 'Decline : Government Benefits & Dishonours > MAX' ;\n",
    "672. opp.Decline_Notification__c = 'Decline : Government Benefits & Insufficient Direct Debits' ;\n",
    "687. opp.Decline_Notification__c = 'Decline : Government Benefits & Income Day is Weekend & Discretionary Spending' ;\n",
    "702. opp.Decline_Notification__c = 'Decline : Government Benefits & Dishonours > MAX1 & Discretionary Spending' ;\n",
    "717. opp.Decline_Notification__c = 'Decline : Government Benefits & Dishonours > MAX2 & Discretionary Spending' ;\n",
    "732. opp.Decline_Notification__c = 'Decline : Government Benefits & High Risk Merchant' ;\n",
    "744. opp.Decline_Notification__c = 'Decline : Government Benefits & Dishonours On Primary > MAX' ;\n",
    "759. opp.Decline_Notification__c = 'Decline : Employed & Dishonours on Primary > MAX' ;\n",
    "771. opp.Decline_Notification__c = 'SACC Limit Exceeded';\n",
    "781. opp.Decline_Notification__c = 'SACC Limit Exceeded';\n",
    "803. opp.Decline_Notification__c = 'Decline : Stage Contains Debt' ;\n",
    "812. opp.Decline_Notification__c = 'SACC Limit Exceeded';\n",
    "822. opp.Decline_Notification__c = 'SACC Limit Exceeded';\n",
    "\n",
    "847. opp.Decision_Engine_Repeat_Loans_Status__c = 'DE Auto Decline Not executed - Lead Source Code' ;\n",
    "855. opp.Decision_Engine_Repeat_Loans_Status__c = 'DE Auto Decline Not executed - No CS JSON Exists in the DE' ;\n",
    "187. opp.Decision_Engine_Repeat_Loans_Status__c = 'Invalid Account Number';\n",
    "495. opp.Decision_Engine_Repeat_Loans_Status__c = 'Duplicate active Opportunity Exist with same Bank Details:  '+ oppToCheck.Name ;\n",
    "\n"
   ]
  },
  {
   "cell_type": "code",
   "execution_count": null,
   "id": "f1f17ab1-7413-4ec3-b42e-8fb2a5af3919",
   "metadata": {},
   "outputs": [],
   "source": []
  },
  {
   "cell_type": "code",
   "execution_count": null,
   "id": "efa027a0-cdc4-4784-b294-e631d677f25e",
   "metadata": {},
   "outputs": [],
   "source": [
    "Decline_Notification__c = r'Opportunity from area, not allowed loan |Decline: Purpose Of Loan-Repay Existing Debt|Decline: Blacklisted Account|Decline: Purpose Of Loan-Repay Existing Debt|Decline: Age Less Than 18|Decline : Age Greater Than 75|Decline : DP-382 , Insolvency Indicator = 1|Decline : DP-383-Hardship -Budget Management Services Exist|Decline : Money In Money Out|Decline :Number Of Dishonours > 25|Decline : Responsible Lending|Decline : Responsible Lending|Decline : Summary Income CV Not Present or Negative|Decline : Either Report period < 90 Or Transaction Period < 75.|Decline : Government Benefits & Dishonours > MAX|Decline : Government Benefits & Insufficient Direct Debits|Decline : Government Benefits & Income Day is Weekend & Discretionary Spending|Decline : Government Benefits & Dishonours > MAX1 & Discretionary Spending|Decline : Government Benefits & Dishonours > MAX2 & Discretionary Spending|Decline : Government Benefits & High Risk Merchant|Decline : Government Benefits & Dishonours On Primary > MAX|Decline : Employed & Dishonours on Primary > MAX|SACC Limit Exceeded|Decline : Stage Contains Debt'"
   ]
  },
  {
   "cell_type": "code",
   "execution_count": null,
   "id": "c0d51bb3-3662-4f42-8b24-e736f2f695a9",
   "metadata": {},
   "outputs": [],
   "source": [
    "Decision_Engine_Repeat_Loans_Status__c = r'DE Auto Decline Not executed - Lead Source Code|DE Auto Decline Not executed - No CS JSON Exists in the DE|Invalid Account Number|Duplicate active Opportunity Exist with same Bank Details:'"
   ]
  },
  {
   "cell_type": "code",
   "execution_count": null,
   "id": "4afeb360-95d0-48d3-bb99-0324a4892da8",
   "metadata": {},
   "outputs": [],
   "source": []
  },
  {
   "cell_type": "code",
   "execution_count": null,
   "id": "ee6fd259-60e6-4546-8c2d-fcf27ffbc001",
   "metadata": {},
   "outputs": [],
   "source": []
  },
  {
   "cell_type": "code",
   "execution_count": null,
   "id": "a166c54f-6e93-4c57-8a61-25930273dc8a",
   "metadata": {},
   "outputs": [],
   "source": []
  },
  {
   "cell_type": "code",
   "execution_count": null,
   "id": "88894220-6e0d-4a3f-ab9c-3d6ea8fbdf0d",
   "metadata": {},
   "outputs": [],
   "source": []
  },
  {
   "cell_type": "code",
   "execution_count": null,
   "id": "c5f0aeaa-6b0d-41c6-99af-d54f96fe5807",
   "metadata": {},
   "outputs": [],
   "source": []
  },
  {
   "cell_type": "code",
   "execution_count": null,
   "id": "e43e4bbe-71ad-4cd4-8912-cf74f074234c",
   "metadata": {},
   "outputs": [],
   "source": []
  },
  {
   "cell_type": "code",
   "execution_count": null,
   "id": "939ee7de-7ed5-49bf-85f1-697508e36b29",
   "metadata": {},
   "outputs": [],
   "source": []
  },
  {
   "cell_type": "code",
   "execution_count": null,
   "id": "215f51f7-a7f0-48ad-9699-2b3848fb6584",
   "metadata": {},
   "outputs": [],
   "source": []
  }
 ],
 "metadata": {
  "kernelspec": {
   "display_name": "Python 3 (ipykernel)",
   "language": "python",
   "name": "python3"
  },
  "language_info": {
   "codemirror_mode": {
    "name": "ipython",
    "version": 3
   },
   "file_extension": ".py",
   "mimetype": "text/x-python",
   "name": "python",
   "nbconvert_exporter": "python",
   "pygments_lexer": "ipython3",
   "version": "3.8.2"
  }
 },
 "nbformat": 4,
 "nbformat_minor": 5
}
